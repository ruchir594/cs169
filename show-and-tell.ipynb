{
 "cells": [
  {
   "cell_type": "markdown",
   "metadata": {},
   "source": [
    "# Understanding International Aid \n",
    "# and It's Impact on Health \n",
    "\n",
    "#### Project Proposal for cs169\n",
    "#### by Ruchir Patel\n",
    "\n",
    "### Goals\n",
    "\n",
    "Goal 1. I want to primarily look at International Aid data to analyse where is the money coming from, and where it is going. \n",
    " \n",
    "\n",
    "For example, \n",
    "\n",
    "India receives a few billion dollars a year in Aid. India also gives a few Billion Dollar in Aids to neighbouring countries. I want to analyse & visualize where the flow originates. \n",
    "\n",
    "Goal 2. Furthermore, I would like to find Aid data intended specifically for Health and measure the impact.\n",
    "\n",
    "Goal 3. If time permits, I would also like to study the impact of aid by looking at correlation between trade & aid, to child mortality rates, poverty rates, and malaria rates in India and African Countries.\n",
    "\n",
    "### Datasets\n",
    "\n",
    "I want to start with UN Dataset, and US Aid datasets. Build a network, where each node is a country, and visualize the quantified world. \n",
    "\n",
    "1. https://www.foreignassistance.gov/explore\n",
    "2. https://comtrade.un.org\n",
    "3. World Bank official Aid Received: http://data.un.org/Data.aspx?q=Official+Development+Assistance&d=WDI&f=Indicator_Code%3aDT.ODA.ALLD.CD\n",
    "4. Bill & Melinda Gates Foundation dataset and result\n",
    "\n",
    "### Questions\n",
    "\n",
    "1. Where the money is coming from and where is it going?\n",
    "2. Does spending more money actually decrease the disease rates, decrease poverty? \n",
    "3. Can effects of independent foundations like Bill & Melinda Gates Foundation be measured?\n",
    "4. Are the rates of Malaria, Polio, and Child Mortality related to Trade, or Aid money?\n",
    "\n",
    "### Related work\n",
    "\n",
    "1. Official Stastical Report: http://www.oecd.org/dac/financing-sustainable-development/development-finance-data/ODA-2016-detailed-summary.pdf\n",
    "\n",
    "2. http://aiddata.org/publications/apples-and-dragon-fruits-the-determinants-of-aid-and-other-forms-of-state-financing-from-china-to-africa-2\n",
    "\n",
    "Non Western Countries have wide veriety of economic activities, and above paper looks into China's Official Development Assistence, and more commercially oriented sources of financing like debt financing for infrastructure and commerce. I would like to do similar analysis for India and Aid data. \n",
    "\n",
    "### Webpage \n",
    "\n",
    "https://ruchir594.github.io/cs169/"
   ]
  },
  {
   "cell_type": "markdown",
   "metadata": {},
   "source": []
  }
 ],
 "metadata": {
  "kernelspec": {
   "display_name": "Python 2",
   "language": "python",
   "name": "python2"
  },
  "language_info": {
   "codemirror_mode": {
    "name": "ipython",
    "version": 2
   },
   "file_extension": ".py",
   "mimetype": "text/x-python",
   "name": "python",
   "nbconvert_exporter": "python",
   "pygments_lexer": "ipython2",
   "version": "2.7.10"
  }
 },
 "nbformat": 4,
 "nbformat_minor": 2
}
